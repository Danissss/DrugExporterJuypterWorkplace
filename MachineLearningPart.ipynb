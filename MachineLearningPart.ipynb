{
 "cells": [
  {
   "cell_type": "code",
   "execution_count": 1,
   "metadata": {},
   "outputs": [],
   "source": [
    "# loading library\n",
    "import os, sys, csv\n",
    "\n",
    "# loading scikitlearn lib\n",
    "import pandas as pd \n",
    "import numpy as np\n",
    "import matplotlib.pyplot as plt\n",
    "\n",
    "# selection metrics\n",
    "from sklearn.model_selection import cross_val_score\n",
    "from sklearn.metrics import recall_score\n",
    "from sklearn import metrics\n",
    "\n",
    "# scoring = ['precision_macro', 'recall_macro']\n",
    "\n",
    "from sklearn.datasets import make_blobs\n",
    "from sklearn.naive_bayes import GaussianNB\n",
    "from sklearn.model_selection import learning_curve\n",
    "from sklearn.model_selection import ShuffleSplit\n",
    "\n",
    "\n",
    "# Feature selections\n",
    "# Removing features with low variance (automatically remove zero and certain threshold)\n",
    "from sklearn.feature_selection import VarianceThreshold\n",
    "# Univariate feature selection\n",
    "from sklearn.datasets import load_iris\n",
    "from sklearn.feature_selection import SelectKBest\n",
    "from sklearn.feature_selection import GenericUnivariateSelect\n",
    "from sklearn.feature_selection import chi2\n",
    "# Tree based feature elimination\n",
    "from sklearn.ensemble import ExtraTreesClassifier\n",
    "from sklearn.datasets import load_iris\n",
    "from sklearn.feature_selection import SelectFromModel\n",
    "# recursive feature elimination\n",
    "from sklearn.svm import SVC\n",
    "from sklearn.datasets import load_digits\n",
    "from sklearn.feature_selection import RFE\n",
    "\n",
    "# Classifiers \n",
    "from sklearn.ensemble import ExtraTreesClassifier\n",
    "from sklearn.tree import DecisionTreeClassifier\n",
    "from sklearn.ensemble import RandomForestClassifier\n",
    "\n",
    "from sklearn.model_selection import GridSearchCV # search best hyper-parameters\n",
    "from sklearn.model_selection import train_test_split"
   ]
  },
  {
   "cell_type": "code",
   "execution_count": 34,
   "metadata": {},
   "outputs": [],
   "source": [
    "# extra import\n",
    "import copy\n",
    "import random\n",
    "# functions \n",
    "\n",
    "# returns header and descriptorValues\n",
    "def readDataFromCSV(csvfile):\n",
    "    header = []\n",
    "    descriptorValue = []\n",
    "    csvreader = csv.reader(open(csvfile))\n",
    "    header = next(csvreader)\n",
    "    for row in csvreader:\n",
    "        descriptorValue.append(row)\n",
    "    \n",
    "    return header, descriptorValue\n",
    "\n",
    "\n",
    "# descriptorValue doesn't contain header; function returns training and testing set;\n",
    "# split is percentage you want to split\n",
    "def splitDataSet(descriptorValue, split):\n",
    "    positive = 0\n",
    "    negative = 0\n",
    "    label = len(descriptorValue[0]) - 1\n",
    "    print(\"label at {}\".format(label))\n",
    "    for row in descriptorValue:\n",
    "        if row[label].lower() == \"non\":\n",
    "            negative += 1\n",
    "        else:\n",
    "            positive += 1\n",
    "    \n",
    "    select_positive = round(positive * split)\n",
    "    select_negative = round(negative * split)\n",
    "    descriptorValue_copy = copy.deepcopy(descriptorValue)\n",
    "    testingSet  = []\n",
    "    testingSet_y = []\n",
    "    while select_negative != 0:\n",
    "        random_int = random.randint(0, len(descriptorValue_copy)-1)\n",
    "        instance = descriptorValue_copy[random_int]\n",
    "        if \"non\" in instance[label].lower():\n",
    "            descriptorValue_copy.remove(instance)\n",
    "            testingSet.append(instance[0:label])\n",
    "            testingSet.append(instance[label:label+1])\n",
    "            select_negative -= 1\n",
    "            \n",
    "    while select_positive != 0:\n",
    "        random_int = random.randint(0, len(descriptorValue_copy)-1)\n",
    "        instance = descriptorValue_copy[random_int]\n",
    "        if \"non\" not in instance[label].lower():\n",
    "            descriptorValue_copy.remove(instance)\n",
    "            testingSet.append(instance[0:label])\n",
    "            testingSet.append(instance[label:label+1])\n",
    "            select_positive -= 1\n",
    "            \n",
    "    trainingSet = []\n",
    "    trainingSet_y = []\n",
    "    for i in descriptorValue_copy:\n",
    "        trainingSet.append(i[0:label])\n",
    "        trainingSet_y.append(i[label:label+1])\n",
    "    \n",
    "        \n",
    "    \n",
    "    return trainingSet, trainingSet_y, testingSet, trainingSet_y\n",
    "\n",
    "# training the random forest; data_label aka y\n",
    "def trainRandomForest(data,data_label):\n",
    "    classifier = RandomForestClassifier(n_estimators=100,random_state=0)\n",
    "    classifier = (data,data_label)\n",
    "    scores     = cross_val_score(classifier,data, data_label, cv=10 )\n",
    "    print(\"Accuracy: %0.2f (+/- %0.2f)\" % (scores.mean(), scores.std() * 2))\n",
    "    return classifier\n",
    "\n",
    "\n",
    "# get classification statistics\n",
    "def getClassifierStats(TP,FP,TN,FN, true_y, pred_y):\n",
    "    roc_curve = metrics.roc_curve(true_y, pred_y, pos_label=2)\n",
    "    mcc_score = metrics.matthews_corrcoef(true_y, pred_y)\n",
    "    jaccard   = metrics.jaccard_score(true_y, pred_y)  # default average=’binary’,\n",
    "    precision = metrics.precision_score(true_y,pred_y, average=\"macro\")\n",
    "    recall    = metrics.recall_score(true_y,pred_y, average=\"macro\")\n",
    "    roc_auc   = metrics.roc_auc_score(true_y,pred_y, average=\"macro\")\n",
    "    \n",
    "    print(\"roc_curve = {0}\".format(roc_curve))\n",
    "    print(\"mcc_score = {0}\".format(mcc_score))\n",
    "    print(\"jaccard   = {0}\".format(jaccard))\n",
    "    print(\"precision = {0}\".format(precision))\n",
    "    print(\"recall    = {0}\".format(recall))\n",
    "    print(\"roc_auc   = {0}\".format(roc_auc))\n",
    "    \n",
    "    \n",
    "    \n",
    "    \n",
    "# access the performance of classifier based on the testing data\n",
    "def testClassifier(classifier,testing_x, testing_y):\n",
    "    \n",
    "    # result is pred_y\n",
    "    result = classifier.predict(testing_x)\n",
    "    ind = 0\n",
    "    TP  = 0\n",
    "    FP  = 0\n",
    "    TN  = 0\n",
    "    FN  = 0\n",
    "    for r in result:\n",
    "        true_value = testing_y[ind].lower()\n",
    "        if r == 1 and \"non\" not in true_value:\n",
    "            TP += 1\n",
    "        elif r == 1 and \"non\" in true_value:\n",
    "            FP += 1\n",
    "        elif r == 0 and \"non\" in true_value:\n",
    "            TN += 1\n",
    "        elif r == 0 and \"non\" not in true_value:\n",
    "            FN += 1\n",
    "        else:\n",
    "            continue\n",
    "        \n",
    "        ind += 1\n",
    "    \n",
    "    \n",
    "    \n"
   ]
  },
  {
   "cell_type": "code",
   "execution_count": 3,
   "metadata": {},
   "outputs": [],
   "source": [
    "# in terms of micro and macro evaluation, macro setting is prefered for binary classification\n",
    "# full explanation: https://datascience.stackexchange.com/questions/15989/micro-average-vs-macro-average-performance-in-a-multiclass-classification-settin\n",
    "# Micro- and macro-averages (for whatever metric) will compute slightly different things, and thus their interpretation differs. A macro-average will compute the metric independently for each class and then take the average (hence treating all classes equally), whereas a micro-average will aggregate the contributions of all classes to compute the average metric. In a multi-class classification setup, micro-average is preferable if you suspect there might be class imbalance (i.e you may have many more examples of one class than of other classes).\n"
   ]
  },
  {
   "cell_type": "code",
   "execution_count": 4,
   "metadata": {},
   "outputs": [],
   "source": [
    "# plot learning curve\n",
    "# reference: https://scikit-learn.org/stable/auto_examples/model_selection/plot_learning_curve.html\n",
    "# estimator => classifier\n",
    "# title => graph name\n",
    "# X => feature values\n",
    "# y => instance label\n",
    "# ylim : tuple, shape (ymin, ymax), optional => Defines minimum and maximum yvalues plotted\n",
    "def plot_learning_curve(estimator, title, X, y, ylim=None, cv=None,\n",
    "                        n_jobs=None, train_sizes=np.linspace(.1, 1.0, 5)):\n",
    "    plt.figure()\n",
    "    plt.title(title)\n",
    "    if ylim is not None:\n",
    "        plt.ylim(*ylim)\n",
    "    plt.xlabel(\"Training examples\")\n",
    "    plt.ylabel(\"Score\")\n",
    "    train_sizes, train_scores, test_scores = learning_curve(\n",
    "        estimator, X, y, cv=cv, n_jobs=n_jobs, train_sizes=train_sizes)\n",
    "    train_scores_mean = np.mean(train_scores, axis=1)\n",
    "    train_scores_std = np.std(train_scores, axis=1)\n",
    "    test_scores_mean = np.mean(test_scores, axis=1)\n",
    "    test_scores_std = np.std(test_scores, axis=1)\n",
    "    plt.grid()\n",
    "\n",
    "    plt.fill_between(train_sizes, train_scores_mean - train_scores_std,\n",
    "                     train_scores_mean + train_scores_std, alpha=0.1,\n",
    "                     color=\"r\")\n",
    "    plt.fill_between(train_sizes, test_scores_mean - test_scores_std,\n",
    "                     test_scores_mean + test_scores_std, alpha=0.1, color=\"g\")\n",
    "    plt.plot(train_sizes, train_scores_mean, 'o-', color=\"r\",\n",
    "             label=\"Training score\")\n",
    "    plt.plot(train_sizes, test_scores_mean, 'o-', color=\"g\",\n",
    "             label=\"Cross-validation score\")\n",
    "\n",
    "    plt.legend(loc=\"best\")\n",
    "    return plt\n",
    "\n",
    "\n",
    "# # naive bayen example for running the plot_learning_curve function\n",
    "# title = \"Learning Curves (Naive Bayes)\"\n",
    "# # Cross validation with 100 iterations to get smoother mean test and train\n",
    "# # score curves, each time with 20% data randomly selected as a validation set.\n",
    "# cv = ShuffleSplit(n_splits=100, test_size=0.2, random_state=0)\n",
    "# estimator = GaussianNB()\n",
    "# plot_learning_curve(estimator, title, X, y, ylim=(0.7, 1.01), cv=cv, n_jobs=4)\n",
    "\n",
    "# # SVC example\n",
    "# title = r\"Learning Curves (SVM, RBF kernel, $\\gamma=0.001$)\"\n",
    "# # SVC is more expensive so we do a lower number of CV iterations:\n",
    "# cv = ShuffleSplit(n_splits=10, test_size=0.2, random_state=0)\n",
    "# estimator = SVC(gamma=0.001)\n",
    "# plot_learning_curve(estimator, title, X, y, ylim=(0.7, 1.01), cv=cv, n_jobs=4)\n",
    "\n",
    "# plt.show()"
   ]
  },
  {
   "cell_type": "code",
   "execution_count": 6,
   "metadata": {},
   "outputs": [],
   "source": [
    "# Get confusion matrix from cross validation\n",
    "# https://stackoverflow.com/questions/40057049/using-confusion-matrix-as-scoring-metric-in-cross-validation-in-scikit-learn\n",
    "# instead of doing :\n",
    "# from sklearn.model_selection import cross_val_score\n",
    "# scores = cross_val_score(clf, x, y, cv=10)\n",
    "# # you can do :\n",
    "# from sklearn.model_selection import cross_val_predict\n",
    "# from sklearn.metrics import confusion_matrix\n",
    "# y_pred = cross_val_predict(clf, x, y, cv=10)\n",
    "# conf_mat = confusion_matrix(y_true, y_pred)\n",
    "# # for binary\n",
    "# tn, fp, fn, tp = confusion_matrix(y_true,y_pred).ravel()"
   ]
  },
  {
   "cell_type": "code",
   "execution_count": 7,
   "metadata": {},
   "outputs": [],
   "source": [
    "# Experimenting the dataset code below\n",
    "cwd = os.getcwd()\n",
    "transporterName = \"BCRP\"\n",
    "smilesFile = \"{0}/data/{1}/substrate.csv\".format(cwd,transporterName)\n",
    "AllDescp = \"{0}/data/{1}/substrate_all_descriptor.csv\".format(cwd,transporterName)\n",
    "Descp3D  = \"{0}/data/{1}/substrate_3D_descriptor.csv\".format(cwd,transporterName)\n",
    "Descp2D  = \"{0}/data/{1}/substrate_2D_descriptor.csv\".format(cwd,transporterName)"
   ]
  },
  {
   "cell_type": "code",
   "execution_count": null,
   "metadata": {},
   "outputs": [],
   "source": []
  },
  {
   "cell_type": "code",
   "execution_count": 8,
   "metadata": {},
   "outputs": [
    {
     "name": "stdout",
     "output_type": "stream",
     "text": [
      "<class 'numpy.ndarray'>\n",
      "<class 'numpy.ndarray'>\n"
     ]
    }
   ],
   "source": [
    "from sklearn.datasets import make_classification\n",
    "X, y = make_classification(n_samples=1000, n_features=4, n_informative=2, n_redundant=0,random_state=0, shuffle=False)\n",
    "print(type(X))\n",
    "print(type(y))"
   ]
  },
  {
   "cell_type": "code",
   "execution_count": 32,
   "metadata": {},
   "outputs": [
    {
     "name": "stdout",
     "output_type": "stream",
     "text": [
      "Length of header          => 149\n",
      "Length of descriptorValue => 149\n"
     ]
    }
   ],
   "source": [
    "header, descriptorValue = readDataFromCSV(Descp2D)\n",
    "print(\"Length of header          => {0}\".format(len(header)))\n",
    "print(\"Length of descriptorValue => {0}\".format(len(descriptorValue[0])))"
   ]
  },
  {
   "cell_type": "code",
   "execution_count": 35,
   "metadata": {},
   "outputs": [
    {
     "name": "stdout",
     "output_type": "stream",
     "text": [
      "label at 148\n"
     ]
    }
   ],
   "source": [
    "trainingSet, trainingSet_y, testingSet, testingSet_y = splitDataSet(descriptorValue, 0.2)"
   ]
  },
  {
   "cell_type": "code",
   "execution_count": 36,
   "metadata": {},
   "outputs": [],
   "source": [
    "trainingSet = np.array(trainingSet)\n",
    "trainingSet_y = np.array(trainingSet_y)\n",
    "testingSet = np.array(testingSet)\n",
    "testingSet_y = np.array(testingSet_y)"
   ]
  },
  {
   "cell_type": "code",
   "execution_count": 40,
   "metadata": {},
   "outputs": [
    {
     "name": "stderr",
     "output_type": "stream",
     "text": [
      "C:\\Users\\Danis\\Anaconda3\\envs\\my-rdkit-env\\lib\\site-packages\\ipykernel_launcher.py:3: DataConversionWarning: A column-vector y was passed when a 1d array was expected. Please change the shape of y to (n_samples,), for example using ravel().\n",
      "  This is separate from the ipykernel package so we can avoid doing imports until\n"
     ]
    },
    {
     "data": {
      "text/plain": [
       "RandomForestClassifier(bootstrap=True, class_weight={'substrate': 2},\n",
       "                       criterion='gini', max_depth=None, max_features='auto',\n",
       "                       max_leaf_nodes=None, min_impurity_decrease=0.0,\n",
       "                       min_impurity_split=None, min_samples_leaf=1,\n",
       "                       min_samples_split=2, min_weight_fraction_leaf=0.0,\n",
       "                       n_estimators=100, n_jobs=4, oob_score=False,\n",
       "                       random_state=0, verbose=0, warm_start=False)"
      ]
     },
     "execution_count": 40,
     "metadata": {},
     "output_type": "execute_result"
    }
   ],
   "source": [
    "# building model\n",
    "clf = RandomForestClassifier(n_estimators=100, random_state=0,class_weight={\"substrate\":2},n_jobs=4)\n",
    "clf.fit(trainingSet,trainingSet_y)"
   ]
  },
  {
   "cell_type": "code",
   "execution_count": 41,
   "metadata": {},
   "outputs": [
    {
     "data": {
      "text/plain": [
       "<module 'matplotlib.pyplot' from 'C:\\\\Users\\\\Danis\\\\Anaconda3\\\\envs\\\\my-rdkit-env\\\\lib\\\\site-packages\\\\matplotlib\\\\pyplot.py'>"
      ]
     },
     "execution_count": 41,
     "metadata": {},
     "output_type": "execute_result"
    },
    {
     "data": {
      "image/png": "[encoded data removed]",
      "text/plain": [
       "<Figure size 432x288 with 1 Axes>"
      ]
     },
     "metadata": {
      "needs_background": "light"
     },
     "output_type": "display_data"
    }
   ],
   "source": [
    "title = \"Learning Curves (Random Forest)\"\n",
    "# Cross validation with 100 iterations to get smoother mean test and train\n",
    "# score curves, each time with 20% data randomly selected as a validation set.\n",
    "cv = ShuffleSplit(n_splits=100, test_size=0.2, random_state=0)\n",
    "clf_curve = RandomForestClassifier(n_estimators=100, random_state=0,class_weight={\"substrate\":2},n_jobs=4)\n",
    "plot_learning_curve(clf_curve, title, trainingSet, trainingSet_y, ylim=(0.7, 1.01), cv=cv, n_jobs=4)"
   ]
  },
  {
   "cell_type": "code",
   "execution_count": null,
   "metadata": {},
   "outputs": [],
   "source": []
  },
  {
   "cell_type": "code",
   "execution_count": null,
   "metadata": {},
   "outputs": [],
   "source": []
  },
  {
   "cell_type": "code",
   "execution_count": null,
   "metadata": {},
   "outputs": [],
   "source": []
  },
  {
   "cell_type": "code",
   "execution_count": null,
   "metadata": {},
   "outputs": [],
   "source": []
  },
  {
   "cell_type": "code",
   "execution_count": null,
   "metadata": {},
   "outputs": [],
   "source": []
  },
  {
   "cell_type": "code",
   "execution_count": null,
   "metadata": {},
   "outputs": [],
   "source": []
  },
  {
   "cell_type": "code",
   "execution_count": null,
   "metadata": {},
   "outputs": [],
   "source": []
  }
 ],
 "metadata": {
  "kernelspec": {
   "display_name": "Python 3",
   "language": "python",
   "name": "python3"
  },
  "language_info": {
   "codemirror_mode": {
    "name": "ipython",
    "version": 3
   },
   "file_extension": ".py",
   "mimetype": "text/x-python",
   "name": "python",
   "nbconvert_exporter": "python",
   "pygments_lexer": "ipython3",
   "version": "3.7.4"
  }
 },
 "nbformat": 4,
 "nbformat_minor": 2
}
